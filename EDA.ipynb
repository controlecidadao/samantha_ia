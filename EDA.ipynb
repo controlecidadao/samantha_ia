{
 "cells": [
  {
   "cell_type": "code",
   "execution_count": 1,
   "id": "aac6ef3f-f04e-4645-80f2-36d0a866fb55",
   "metadata": {},
   "outputs": [],
   "source": [
    "csv_file = 'titanic.csv'"
   ]
  },
  {
   "cell_type": "markdown",
   "id": "ebcdaec5-140a-42bf-9e68-27e349d77fe0",
   "metadata": {},
   "source": [
    "# D-Tale"
   ]
  },
  {
   "cell_type": "code",
   "execution_count": 2,
   "id": "c8bbe3f8-7a12-41e5-af03-fb6ed211876f",
   "metadata": {},
   "outputs": [
    {
     "name": "stderr",
     "output_type": "stream",
     "text": [
      "D:\\teste\\samantha_ia-main\\miniconda3\\envs\\jupyterlab\\lib\\site-packages\\dtale\\views.py:798: FutureWarning:\n",
      "\n",
      "['Cabin', 'Embarked'] did not aggregate successfully. If any error is raised this will raise in a future version of pandas. Drop these columns/ops to avoid this warning.\n",
      "\n"
     ]
    }
   ],
   "source": [
    "import dtale          # https://github.com/man-group/dtale\n",
    "import pandas as pd\n",
    "\n",
    "# Carrega seu DataFrame de dados\n",
    "df = pd.read_csv(csv_file)\n",
    "\n",
    "# Create a D-Tale report\n",
    "d = dtale.show(df)\n",
    "\n",
    "# Show the report on browser\n",
    "d.open_browser()"
   ]
  },
  {
   "cell_type": "markdown",
   "id": "8b5120dc-0f73-4f37-990f-b5f867928f93",
   "metadata": {},
   "source": [
    "# Y-Data Profiling"
   ]
  },
  {
   "cell_type": "code",
   "execution_count": 12,
   "id": "f054961a-fb69-450c-b269-1f91e1334c3d",
   "metadata": {},
   "outputs": [
    {
     "data": {
      "application/vnd.jupyter.widget-view+json": {
       "model_id": "0a5376905bb04481bd2107411308b513",
       "version_major": 2,
       "version_minor": 0
      },
      "text/plain": [
       "Summarize dataset:   0%|          | 0/5 [00:00<?, ?it/s]"
      ]
     },
     "metadata": {},
     "output_type": "display_data"
    },
    {
     "data": {
      "application/vnd.jupyter.widget-view+json": {
       "model_id": "11b1c42c931b4fdc9fe40161110f5898",
       "version_major": 2,
       "version_minor": 0
      },
      "text/plain": [
       "Generate report structure:   0%|          | 0/1 [00:00<?, ?it/s]"
      ]
     },
     "metadata": {},
     "output_type": "display_data"
    },
    {
     "data": {
      "application/vnd.jupyter.widget-view+json": {
       "model_id": "ff3a264eb8424a36acc26784c4f15f2f",
       "version_major": 2,
       "version_minor": 0
      },
      "text/plain": [
       "Render HTML:   0%|          | 0/1 [00:00<?, ?it/s]"
      ]
     },
     "metadata": {},
     "output_type": "display_data"
    },
    {
     "data": {
      "application/vnd.jupyter.widget-view+json": {
       "model_id": "cb405ef8a260445dad8c46f760f42737",
       "version_major": 2,
       "version_minor": 0
      },
      "text/plain": [
       "Export report to file:   0%|          | 0/1 [00:00<?, ?it/s]"
      ]
     },
     "metadata": {},
     "output_type": "display_data"
    },
    {
     "data": {
      "text/plain": [
       "True"
      ]
     },
     "execution_count": 12,
     "metadata": {},
     "output_type": "execute_result"
    }
   ],
   "source": [
    "import pandas as pd\n",
    "from ydata_profiling import ProfileReport # https://docs.profiling.ydata.ai/latest/\n",
    "import webbrowser\n",
    "\n",
    "df = pd.read_csv(csv_file)\n",
    "profile = ProfileReport(df, title='Y-Data')\n",
    "profile.to_file('Y-Data.html')\n",
    "webbrowser.open('Y-Data.html')"
   ]
  },
  {
   "cell_type": "markdown",
   "id": "c67ede68-180d-426d-87d7-31cdfcf94c82",
   "metadata": {},
   "source": [
    "# DataPrep"
   ]
  },
  {
   "cell_type": "code",
   "execution_count": 7,
   "id": "839c2f20-b92a-44a0-ad0c-87deff2d9b3b",
   "metadata": {},
   "outputs": [
    {
     "data": {
      "application/vnd.jupyter.widget-view+json": {
       "model_id": "18ac1674a8114ab68239cca019ec9316",
       "version_major": 2,
       "version_minor": 0
      },
      "text/plain": [
       "  0%|                                                                                                         …"
      ]
     },
     "metadata": {},
     "output_type": "display_data"
    },
    {
     "name": "stderr",
     "output_type": "stream",
     "text": [
      "D:\\teste\\samantha_ia-main\\miniconda3\\envs\\jupyterlab\\lib\\site-packages\\dataprep\\eda\\distribution\\render.py:274: FutureWarning:\n",
      "\n",
      "The frame.append method is deprecated and will be removed from pandas in a future version. Use pandas.concat instead.\n",
      "\n",
      "D:\\teste\\samantha_ia-main\\miniconda3\\envs\\jupyterlab\\lib\\site-packages\\dataprep\\eda\\distribution\\render.py:274: FutureWarning:\n",
      "\n",
      "The frame.append method is deprecated and will be removed from pandas in a future version. Use pandas.concat instead.\n",
      "\n",
      "D:\\teste\\samantha_ia-main\\miniconda3\\envs\\jupyterlab\\lib\\site-packages\\dataprep\\eda\\distribution\\render.py:274: FutureWarning:\n",
      "\n",
      "The frame.append method is deprecated and will be removed from pandas in a future version. Use pandas.concat instead.\n",
      "\n",
      "D:\\teste\\samantha_ia-main\\miniconda3\\envs\\jupyterlab\\lib\\site-packages\\dataprep\\eda\\distribution\\render.py:274: FutureWarning:\n",
      "\n",
      "The frame.append method is deprecated and will be removed from pandas in a future version. Use pandas.concat instead.\n",
      "\n"
     ]
    },
    {
     "name": "stdout",
     "output_type": "stream",
     "text": [
      "Report has been saved to relatorio_dataprep.html!\n"
     ]
    },
    {
     "data": {
      "text/plain": [
       "True"
      ]
     },
     "execution_count": 7,
     "metadata": {},
     "output_type": "execute_result"
    }
   ],
   "source": [
    "from dataprep.datasets import load_dataset\n",
    "from dataprep.eda import create_report\n",
    "import webbrowser\n",
    "\n",
    "df = load_dataset(csv_file)\n",
    "create_report(df, title='DataPrep').save('relatorio_dataprep.html')\n",
    "webbrowser.open('relatorio_dataprep.html')"
   ]
  },
  {
   "cell_type": "markdown",
   "id": "4fcb1b6c-d50f-4abe-b0a7-526576c3f3df",
   "metadata": {},
   "source": [
    "# SweetViz"
   ]
  },
  {
   "cell_type": "code",
   "execution_count": 9,
   "id": "f804cc47-9e3c-447e-887a-17d40131acd4",
   "metadata": {},
   "outputs": [
    {
     "data": {
      "application/vnd.jupyter.widget-view+json": {
       "model_id": "b909b338539b4164ba3351885d40f129",
       "version_major": 2,
       "version_minor": 0
      },
      "text/plain": [
       "                                             |                                                                …"
      ]
     },
     "metadata": {},
     "output_type": "display_data"
    },
    {
     "name": "stdout",
     "output_type": "stream",
     "text": [
      "Report SweetViz.html was generated! NOTEBOOK/COLAB USERS: the web browser MAY not pop up, regardless, the report IS saved in your notebook/colab files.\n"
     ]
    }
   ],
   "source": [
    "#python\n",
    "import pandas as pd\n",
    "import sweetviz\n",
    "\n",
    "# Carregue o arquivo CSV\n",
    "df = pd.read_csv(csv_file)\n",
    "\n",
    "# Crie um objeto Sweetviz\n",
    "sv = sweetviz.analyze(df)\n",
    "\n",
    "sv.show_html('SweetViz.html')\n"
   ]
  },
  {
   "cell_type": "code",
   "execution_count": null,
   "id": "1220713a-2427-48ba-b737-6735596e0051",
   "metadata": {},
   "outputs": [],
   "source": []
  }
 ],
 "metadata": {
  "kernelspec": {
   "display_name": "Python 3 (ipykernel)",
   "language": "python",
   "name": "python3"
  },
  "language_info": {
   "codemirror_mode": {
    "name": "ipython",
    "version": 3
   },
   "file_extension": ".py",
   "mimetype": "text/x-python",
   "name": "python",
   "nbconvert_exporter": "python",
   "pygments_lexer": "ipython3",
   "version": "3.10.14"
  }
 },
 "nbformat": 4,
 "nbformat_minor": 5
}
