{
 "cells": [
  {
   "cell_type": "markdown",
   "id": "afd20f0d-5f17-4016-8af6-94f001c16417",
   "metadata": {},
   "source": [
    "## Load Data"
   ]
  },
  {
   "cell_type": "code",
   "execution_count": null,
   "id": "aac6ef3f-f04e-4645-80f2-36d0a866fb55",
   "metadata": {},
   "outputs": [],
   "source": [
    "# csv_file = 'titanic.csv'\n",
    "\n",
    "# csv_file = 'https://gist.githubusercontent.com/netj/8836201/raw/6f9306ad21398ea43cba4f7d537619d0e07d5ae3/iris.csv'\n",
    "# csv_file = 'https://raw.githubusercontent.com/rashakil-ds/Public-Datasets/main/anomaly.csv'\n",
    "# csv_file = 'https://raw.githubusercontent.com/mwaskom/seaborn-data/master/flights.csv'\n",
    "csv_file = 'https://raw.githubusercontent.com/plotly/datasets/master/gapminder2007.csv'\n",
    "\n",
    "# csv_file = fr'{csv_file}'"
   ]
  },
  {
   "cell_type": "markdown",
   "id": "ebcdaec5-140a-42bf-9e68-27e349d77fe0",
   "metadata": {},
   "source": [
    "## D-Tale"
   ]
  },
  {
   "cell_type": "code",
   "execution_count": null,
   "id": "c8bbe3f8-7a12-41e5-af03-fb6ed211876f",
   "metadata": {},
   "outputs": [],
   "source": [
    "import dtale\n",
    "import pandas as pd\n",
    "import time\n",
    "\n",
    "while True:\n",
    "    # Carrega seu DataFrame de dados\n",
    "    df = pd.read_csv(csv_file)\n",
    "    \n",
    "    # Create a D-Tale report\n",
    "    d = dtale.show(df)\n",
    "    \n",
    "    # Show the report on browser\n",
    "    d.open_browser()\n",
    "\n",
    "    # Wait for 5 minutes\n",
    "    time.sleep(300)\n",
    "\n",
    "    break"
   ]
  },
  {
   "cell_type": "markdown",
   "id": "8b5120dc-0f73-4f37-990f-b5f867928f93",
   "metadata": {},
   "source": [
    "## Y-Data Profiling"
   ]
  },
  {
   "cell_type": "code",
   "execution_count": null,
   "id": "f054961a-fb69-450c-b269-1f91e1334c3d",
   "metadata": {},
   "outputs": [],
   "source": [
    "import pandas as pd\n",
    "from ydata_profiling import ProfileReport # https://docs.profiling.ydata.ai/latest/\n",
    "import webbrowser\n",
    "\n",
    "df = pd.read_csv(csv_file)\n",
    "profile = ProfileReport(df, title='Y-Data')\n",
    "profile.to_file('Y-Data.html')\n",
    "webbrowser.open('Y-Data.html')"
   ]
  },
  {
   "cell_type": "markdown",
   "id": "c67ede68-180d-426d-87d7-31cdfcf94c82",
   "metadata": {},
   "source": [
    "## DataPrep"
   ]
  },
  {
   "cell_type": "code",
   "execution_count": null,
   "id": "839c2f20-b92a-44a0-ad0c-87deff2d9b3b",
   "metadata": {
    "scrolled": true
   },
   "outputs": [],
   "source": [
    "from dataprep.eda import create_report\n",
    "import webbrowser\n",
    "\n",
    "df = pd.read_csv(csv_file)\n",
    "create_report(df, title='DataPrep').save('relatorio_dataprep.html')\n",
    "webbrowser.open('relatorio_dataprep.html')"
   ]
  },
  {
   "cell_type": "markdown",
   "id": "4fcb1b6c-d50f-4abe-b0a7-526576c3f3df",
   "metadata": {},
   "source": [
    "## SweetViz"
   ]
  },
  {
   "cell_type": "code",
   "execution_count": null,
   "id": "f804cc47-9e3c-447e-887a-17d40131acd4",
   "metadata": {},
   "outputs": [],
   "source": [
    "#python\n",
    "import pandas as pd\n",
    "import sweetviz\n",
    "\n",
    "# Carregue o arquivo CSV\n",
    "df = pd.read_csv(csv_file)\n",
    "\n",
    "# Crie um objeto Sweetviz\n",
    "sv = sweetviz.analyze(df)\n",
    "\n",
    "sv.show_html('SweetViz.html')\n"
   ]
  },
  {
   "cell_type": "code",
   "execution_count": null,
   "id": "1220713a-2427-48ba-b737-6735596e0051",
   "metadata": {},
   "outputs": [],
   "source": []
  }
 ],
 "metadata": {
  "kernelspec": {
   "display_name": "Python 3 (ipykernel)",
   "language": "python",
   "name": "python3"
  },
  "language_info": {
   "codemirror_mode": {
    "name": "ipython",
    "version": 3
   },
   "file_extension": ".py",
   "mimetype": "text/x-python",
   "name": "python",
   "nbconvert_exporter": "python",
   "pygments_lexer": "ipython3",
   "version": "3.10.16"
  }
 },
 "nbformat": 4,
 "nbformat_minor": 5
}
